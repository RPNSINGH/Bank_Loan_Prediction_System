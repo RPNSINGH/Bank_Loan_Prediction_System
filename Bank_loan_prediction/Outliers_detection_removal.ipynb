{
 "cells": [
  {
   "cell_type": "code",
   "execution_count": 1,
   "id": "3dbc3c58",
   "metadata": {},
   "outputs": [],
   "source": [
    "import pandas as pd"
   ]
  },
  {
   "cell_type": "code",
   "execution_count": 2,
   "id": "f68aba6c",
   "metadata": {},
   "outputs": [
    {
     "data": {
      "text/html": [
       "<div>\n",
       "<style scoped>\n",
       "    .dataframe tbody tr th:only-of-type {\n",
       "        vertical-align: middle;\n",
       "    }\n",
       "\n",
       "    .dataframe tbody tr th {\n",
       "        vertical-align: top;\n",
       "    }\n",
       "\n",
       "    .dataframe thead th {\n",
       "        text-align: right;\n",
       "    }\n",
       "</style>\n",
       "<table border=\"1\" class=\"dataframe\">\n",
       "  <thead>\n",
       "    <tr style=\"text-align: right;\">\n",
       "      <th></th>\n",
       "      <th>Gender</th>\n",
       "      <th>Married</th>\n",
       "      <th>Dependents</th>\n",
       "      <th>Education</th>\n",
       "      <th>Self_Employed</th>\n",
       "      <th>ApplicantIncome</th>\n",
       "      <th>CoapplicantIncome</th>\n",
       "      <th>LoanAmount</th>\n",
       "      <th>Loan_Amount_Term</th>\n",
       "      <th>Credit_History</th>\n",
       "      <th>Property_Area</th>\n",
       "      <th>Loan_Status</th>\n",
       "    </tr>\n",
       "  </thead>\n",
       "  <tbody>\n",
       "    <tr>\n",
       "      <th>0</th>\n",
       "      <td>1</td>\n",
       "      <td>0</td>\n",
       "      <td>0</td>\n",
       "      <td>0</td>\n",
       "      <td>0</td>\n",
       "      <td>5849</td>\n",
       "      <td>0.0</td>\n",
       "      <td>128.0</td>\n",
       "      <td>360.0</td>\n",
       "      <td>1.0</td>\n",
       "      <td>2</td>\n",
       "      <td>1</td>\n",
       "    </tr>\n",
       "    <tr>\n",
       "      <th>1</th>\n",
       "      <td>1</td>\n",
       "      <td>1</td>\n",
       "      <td>1</td>\n",
       "      <td>0</td>\n",
       "      <td>0</td>\n",
       "      <td>4583</td>\n",
       "      <td>1508.0</td>\n",
       "      <td>128.0</td>\n",
       "      <td>360.0</td>\n",
       "      <td>1.0</td>\n",
       "      <td>0</td>\n",
       "      <td>0</td>\n",
       "    </tr>\n",
       "    <tr>\n",
       "      <th>2</th>\n",
       "      <td>1</td>\n",
       "      <td>1</td>\n",
       "      <td>0</td>\n",
       "      <td>0</td>\n",
       "      <td>1</td>\n",
       "      <td>3000</td>\n",
       "      <td>0.0</td>\n",
       "      <td>66.0</td>\n",
       "      <td>360.0</td>\n",
       "      <td>1.0</td>\n",
       "      <td>2</td>\n",
       "      <td>1</td>\n",
       "    </tr>\n",
       "    <tr>\n",
       "      <th>3</th>\n",
       "      <td>1</td>\n",
       "      <td>1</td>\n",
       "      <td>0</td>\n",
       "      <td>1</td>\n",
       "      <td>0</td>\n",
       "      <td>2583</td>\n",
       "      <td>2358.0</td>\n",
       "      <td>120.0</td>\n",
       "      <td>360.0</td>\n",
       "      <td>1.0</td>\n",
       "      <td>2</td>\n",
       "      <td>1</td>\n",
       "    </tr>\n",
       "    <tr>\n",
       "      <th>4</th>\n",
       "      <td>1</td>\n",
       "      <td>0</td>\n",
       "      <td>0</td>\n",
       "      <td>0</td>\n",
       "      <td>0</td>\n",
       "      <td>6000</td>\n",
       "      <td>0.0</td>\n",
       "      <td>141.0</td>\n",
       "      <td>360.0</td>\n",
       "      <td>1.0</td>\n",
       "      <td>2</td>\n",
       "      <td>1</td>\n",
       "    </tr>\n",
       "  </tbody>\n",
       "</table>\n",
       "</div>"
      ],
      "text/plain": [
       "   Gender  Married  Dependents  Education  Self_Employed  ApplicantIncome  \\\n",
       "0       1        0           0          0              0             5849   \n",
       "1       1        1           1          0              0             4583   \n",
       "2       1        1           0          0              1             3000   \n",
       "3       1        1           0          1              0             2583   \n",
       "4       1        0           0          0              0             6000   \n",
       "\n",
       "   CoapplicantIncome  LoanAmount  Loan_Amount_Term  Credit_History  \\\n",
       "0                0.0       128.0             360.0             1.0   \n",
       "1             1508.0       128.0             360.0             1.0   \n",
       "2                0.0        66.0             360.0             1.0   \n",
       "3             2358.0       120.0             360.0             1.0   \n",
       "4                0.0       141.0             360.0             1.0   \n",
       "\n",
       "   Property_Area  Loan_Status  \n",
       "0              2            1  \n",
       "1              0            0  \n",
       "2              2            1  \n",
       "3              2            1  \n",
       "4              2            1  "
      ]
     },
     "execution_count": 2,
     "metadata": {},
     "output_type": "execute_result"
    }
   ],
   "source": [
    "df =pd.read_csv(r\"preprocessed.csv\")\n",
    "df.head()"
   ]
  },
  {
   "cell_type": "markdown",
   "id": "631e4c4d",
   "metadata": {},
   "source": [
    "<h2 style=\"color:green\" >  Outliers detection and removal using Percentile method :</h2>"
   ]
  },
  {
   "cell_type": "markdown",
   "id": "59d60411",
   "metadata": {},
   "source": [
    "<h3 style=\"color:green\" >  Lets apply quantile range on price column</h3>"
   ]
  },
  {
   "cell_type": "code",
   "execution_count": 3,
   "id": "4f61c19a",
   "metadata": {},
   "outputs": [
    {
     "data": {
      "text/plain": [
       "(30.65, 495.87)"
      ]
     },
     "execution_count": 3,
     "metadata": {},
     "output_type": "execute_result"
    }
   ],
   "source": [
    "min_th_pr,max_th_pr=df['LoanAmount'].quantile([0.01,0.99])\n",
    "min_th_pr,max_th_pr"
   ]
  },
  {
   "cell_type": "code",
   "execution_count": 4,
   "id": "6e1969ea",
   "metadata": {},
   "outputs": [
    {
     "name": "stdout",
     "output_type": "stream",
     "text": [
      "lower values outliers : 7\n",
      "upper values outlierst : 7\n"
     ]
    }
   ],
   "source": [
    "print(\"lower values outliers :\",len(df[df['LoanAmount']<min_th_pr]))\n",
    "print(\"upper values outlierst :\",len(df[df['LoanAmount']>max_th_pr]))"
   ]
  },
  {
   "cell_type": "code",
   "execution_count": 5,
   "id": "11e9e367",
   "metadata": {},
   "outputs": [
    {
     "data": {
      "text/plain": [
       "(14, 12)"
      ]
     },
     "execution_count": 5,
     "metadata": {},
     "output_type": "execute_result"
    }
   ],
   "source": [
    "outliers = df[(df.LoanAmount>max_th_pr) | (df.LoanAmount < min_th_pr)]\n",
    "outliers.shape"
   ]
  },
  {
   "cell_type": "code",
   "execution_count": 6,
   "id": "ef329ae3",
   "metadata": {
    "scrolled": true
   },
   "outputs": [
    {
     "data": {
      "text/plain": [
       "14      17.0\n",
       "94      25.0\n",
       "130    650.0\n",
       "133     25.0\n",
       "147     30.0\n",
       "155    600.0\n",
       "171    700.0\n",
       "270     30.0\n",
       "369    570.0\n",
       "487    500.0\n",
       "555     26.0\n",
       "561    600.0\n",
       "568      9.0\n",
       "604    496.0\n",
       "Name: LoanAmount, dtype: float64"
      ]
     },
     "execution_count": 6,
     "metadata": {},
     "output_type": "execute_result"
    }
   ],
   "source": [
    "outliers['LoanAmount']"
   ]
  },
  {
   "cell_type": "code",
   "execution_count": 7,
   "id": "43671152",
   "metadata": {},
   "outputs": [
    {
     "name": "stdout",
     "output_type": "stream",
     "text": [
      "with outliers shape is : (614, 12)\n",
      "without outliers shape is (600, 12)\n"
     ]
    }
   ],
   "source": [
    "df_new = df[(df['LoanAmount']<max_th_pr) & (df['LoanAmount']>min_th_pr)]\n",
    "print(\"with outliers shape is :\",df.shape)\n",
    "print(\"without outliers shape is\",df_new.shape)"
   ]
  },
  {
   "cell_type": "markdown",
   "id": "a6a355d7",
   "metadata": {},
   "source": [
    "<h1 style=\"color:green\" >  Outliers detection and removal using Z-score method :</h1><br>\n",
    "<h4 style=\"color:green\">upper_lmt : means any point greator than upper_lmt will be consider as outlier .</h4>\n",
    "<h4 style=\"color:green\">lower_lmt : means any point below  lower_lmt will be consider as outlier ."
   ]
  },
  {
   "cell_type": "code",
   "execution_count": 8,
   "id": "a72a44a5",
   "metadata": {},
   "outputs": [
    {
     "name": "stdout",
     "output_type": "stream",
     "text": [
      "23730.584303549156 -12923.66573677391\n"
     ]
    }
   ],
   "source": [
    "#I am taking 3 std dev\n",
    "upper_lmt = df.ApplicantIncome.mean()+3*df.ApplicantIncome.std()\n",
    "lower_lmt = df.ApplicantIncome.mean()-3*df.ApplicantIncome.std()\n",
    "print(upper_lmt,lower_lmt)"
   ]
  },
  {
   "cell_type": "code",
   "execution_count": 9,
   "id": "9182698e",
   "metadata": {},
   "outputs": [
    {
     "data": {
      "text/plain": [
       "(8, 12)"
      ]
     },
     "execution_count": 9,
     "metadata": {},
     "output_type": "execute_result"
    }
   ],
   "source": [
    "outliers = df[(df.ApplicantIncome>upper_lmt) | (df.ApplicantIncome < lower_lmt)]\n",
    "outliers.shape"
   ]
  },
  {
   "cell_type": "code",
   "execution_count": 10,
   "id": "9e4430b9",
   "metadata": {},
   "outputs": [
    {
     "name": "stdout",
     "output_type": "stream",
     "text": [
      "with outliers shape is : (614, 12)\n",
      "without outliers shape is (606, 12)\n"
     ]
    }
   ],
   "source": [
    "df_new_z = df[(df['ApplicantIncome']<upper_lmt) & (df['ApplicantIncome']>lower_lmt)]\n",
    "print(\"with outliers shape is :\",df.shape)\n",
    "print(\"without outliers shape is\",df_new_z.shape)"
   ]
  },
  {
   "cell_type": "code",
   "execution_count": null,
   "id": "6d6197f4",
   "metadata": {},
   "outputs": [],
   "source": []
  },
  {
   "cell_type": "markdown",
   "id": "f524295c",
   "metadata": {},
   "source": [
    "<h1 style=\"color:green\" >  Outliers detection and removal using IQR method :</h1><br>\n",
    "<h4 style=\"color:green\">upper_lmt : means any point greator than upper_lmt will be consider as outlier .</h4>\n",
    "<h4 style=\"color:green\">lower_lmt : means any point below  lower_lmt will be consider as outlier ."
   ]
  },
  {
   "cell_type": "markdown",
   "id": "ddce916c",
   "metadata": {},
   "source": [
    "##  IQR\n",
    "* Q1 = 25th Persentile\n",
    "* Q2 = 75th Persentile\n",
    "* \n",
    "#### IQR = Q3 - Q1\n",
    "#### lower_limit  = Q1 - 1.5*IQR\n",
    "#### upper_limit  = Q3 + 1.5*IQR"
   ]
  },
  {
   "cell_type": "code",
   "execution_count": 11,
   "id": "513b3e27",
   "metadata": {},
   "outputs": [
    {
     "name": "stdout",
     "output_type": "stream",
     "text": [
      "0.0 2297.25\n"
     ]
    }
   ],
   "source": [
    "Q1 = df.CoapplicantIncome.quantile(0.25)\n",
    "Q3 = df.CoapplicantIncome.quantile(0.75)\n",
    "print(Q1,Q3)"
   ]
  },
  {
   "cell_type": "code",
   "execution_count": 12,
   "id": "425dc9e5",
   "metadata": {},
   "outputs": [
    {
     "data": {
      "text/plain": [
       "2297.25"
      ]
     },
     "execution_count": 12,
     "metadata": {},
     "output_type": "execute_result"
    }
   ],
   "source": [
    "IQR = Q3 - Q1\n",
    "IQR"
   ]
  },
  {
   "cell_type": "code",
   "execution_count": 13,
   "id": "28f142e0",
   "metadata": {},
   "outputs": [
    {
     "name": "stdout",
     "output_type": "stream",
     "text": [
      "-3445.875 5743.125\n"
     ]
    }
   ],
   "source": [
    "lower_limit  = Q1 - 1.5*IQR\n",
    "upper_limit  = Q3 + 1.5*IQR\n",
    "print(lower_limit,upper_limit)"
   ]
  },
  {
   "cell_type": "code",
   "execution_count": 14,
   "id": "1846d1ac",
   "metadata": {},
   "outputs": [
    {
     "data": {
      "text/plain": [
       "(18, 12)"
      ]
     },
     "execution_count": 14,
     "metadata": {},
     "output_type": "execute_result"
    }
   ],
   "source": [
    "outliers = df[(df.CoapplicantIncome>upper_limit) | (df.CoapplicantIncome < lower_limit)]\n",
    "outliers.shape"
   ]
  },
  {
   "cell_type": "code",
   "execution_count": 15,
   "id": "5831387e",
   "metadata": {},
   "outputs": [
    {
     "name": "stdout",
     "output_type": "stream",
     "text": [
      "with outliers shape is : (614, 12)\n",
      "without outliers shape is (596, 12)\n"
     ]
    }
   ],
   "source": [
    "df_new = df[(df['CoapplicantIncome']<upper_limit) & (df['CoapplicantIncome']>lower_limit)]\n",
    "print(\"with outliers shape is :\",df.shape)\n",
    "print(\"without outliers shape is\",df_new.shape)"
   ]
  },
  {
   "cell_type": "markdown",
   "id": "f12df424",
   "metadata": {},
   "source": [
    "## I am going to use IQR for finally outliers detection and removal "
   ]
  },
  {
   "cell_type": "code",
   "execution_count": 16,
   "id": "c18d65aa",
   "metadata": {},
   "outputs": [
    {
     "name": "stdout",
     "output_type": "stream",
     "text": [
      "First quartile (Q1) :\n",
      " ApplicantIncome      2877.50\n",
      "CoapplicantIncome       0.00\n",
      "LoanAmount            100.25\n",
      "Name: 0.25, dtype: float64\n",
      "\n",
      "Third quartile (Q3) :\n",
      " ApplicantIncome      5795.00\n",
      "CoapplicantIncome    2297.25\n",
      "LoanAmount            164.75\n",
      "Name: 0.75, dtype: float64\n"
     ]
    }
   ],
   "source": [
    "Q1 = df[['ApplicantIncome','CoapplicantIncome','LoanAmount']].quantile(0.25)\n",
    "Q3 = df[['ApplicantIncome','CoapplicantIncome','LoanAmount']].quantile(0.75)\n",
    "print(\"First quartile (Q1) :\\n\" ,Q1)\n",
    "print()\n",
    "print(\"Third quartile (Q3) :\\n\" ,Q3)"
   ]
  },
  {
   "cell_type": "code",
   "execution_count": 17,
   "id": "cdad155b",
   "metadata": {},
   "outputs": [
    {
     "data": {
      "text/plain": [
       "164.75"
      ]
     },
     "execution_count": 17,
     "metadata": {},
     "output_type": "execute_result"
    }
   ],
   "source": [
    "df['LoanAmount'].quantile(0.75)"
   ]
  },
  {
   "cell_type": "code",
   "execution_count": 18,
   "id": "8fc1873c",
   "metadata": {},
   "outputs": [
    {
     "data": {
      "text/plain": [
       "ApplicantIncome      2917.50\n",
       "CoapplicantIncome    2297.25\n",
       "LoanAmount             64.50\n",
       "dtype: float64"
      ]
     },
     "execution_count": 18,
     "metadata": {},
     "output_type": "execute_result"
    }
   ],
   "source": [
    "IQR = Q3 - Q1\n",
    "IQR"
   ]
  },
  {
   "cell_type": "code",
   "execution_count": 19,
   "id": "eb961394",
   "metadata": {
    "scrolled": true
   },
   "outputs": [
    {
     "name": "stdout",
     "output_type": "stream",
     "text": [
      "ApplicantIncome     -1498.750\n",
      "CoapplicantIncome   -3445.875\n",
      "LoanAmount              3.500\n",
      "dtype: float64\n",
      "ApplicantIncome      10171.250\n",
      "CoapplicantIncome     5743.125\n",
      "LoanAmount             261.500\n",
      "dtype: float64\n"
     ]
    }
   ],
   "source": [
    "lower_limit  = Q1 - 1.5*IQR\n",
    "upper_limit  = Q3 + 1.5*IQR\n",
    "print(lower_limit)\n",
    "print(upper_limit)"
   ]
  },
  {
   "cell_type": "code",
   "execution_count": 20,
   "id": "90f74b66",
   "metadata": {},
   "outputs": [],
   "source": [
    "# Unpacking \n",
    "ApplicantIncome_upper,CoapplicantIncome_upper,LoanAmount_upper = upper_limit\n",
    "ApplicantIncome_lower,CoapplicantIncome_lower,LoanAmount_lower = lower_limit"
   ]
  },
  {
   "cell_type": "code",
   "execution_count": 21,
   "id": "e7fd8a64",
   "metadata": {},
   "outputs": [],
   "source": [
    "outliers_ApplicantIncome = df[(df.ApplicantIncome>ApplicantIncome_upper) | (df.ApplicantIncome < ApplicantIncome_lower)]\n",
    "outliers_CoapplicantIncome = df[(df.CoapplicantIncome>CoapplicantIncome_upper) | (df.CoapplicantIncome < CoapplicantIncome_lower)]\n",
    "outliers_LoanAmount = df[(df.LoanAmount>LoanAmount_upper) | (df.LoanAmount < LoanAmount_lower)]"
   ]
  },
  {
   "cell_type": "code",
   "execution_count": 22,
   "id": "b34eb100",
   "metadata": {
    "scrolled": true
   },
   "outputs": [
    {
     "name": "stdout",
     "output_type": "stream",
     "text": [
      "(50, 12)\n",
      "(18, 12)\n",
      "(41, 12)\n"
     ]
    }
   ],
   "source": [
    "print(outliers_ApplicantIncome.shape)\n",
    "print(outliers_CoapplicantIncome.shape)\n",
    "print(outliers_LoanAmount.shape)"
   ]
  },
  {
   "cell_type": "markdown",
   "id": "3953b847",
   "metadata": {},
   "source": [
    "<h3 style=\"color:green\" > Lets  remove outliers (wrt ApplicantIncome ) ↓"
   ]
  },
  {
   "cell_type": "code",
   "execution_count": 24,
   "id": "673d4217",
   "metadata": {},
   "outputs": [
    {
     "name": "stdout",
     "output_type": "stream",
     "text": [
      "with outliers shape is : (614, 12)\n",
      "without outliers shape is (564, 12)\n"
     ]
    }
   ],
   "source": [
    "df_new = df[(df['ApplicantIncome']<ApplicantIncome_upper) & (df['ApplicantIncome']>ApplicantIncome_lower)]\n",
    "\n",
    "print(\"with outliers shape is :\",df.shape)\n",
    "print(\"without outliers shape is\",df_new.shape)"
   ]
  },
  {
   "cell_type": "markdown",
   "id": "6acb506c",
   "metadata": {},
   "source": [
    "<h3 style=\"color:green\" > Lets  remove outliers (wrt CoapplicantIncome ) ↓"
   ]
  },
  {
   "cell_type": "code",
   "execution_count": 25,
   "id": "74e512be",
   "metadata": {},
   "outputs": [
    {
     "name": "stdout",
     "output_type": "stream",
     "text": [
      "with outliers shape is : (614, 12)\n",
      "without outliers shape is (596, 12)\n"
     ]
    }
   ],
   "source": [
    "df_new = df[(df['CoapplicantIncome']<CoapplicantIncome_upper) & (df['ApplicantIncome']>CoapplicantIncome_lower)]\n",
    "\n",
    "print(\"with outliers shape is :\",df.shape)\n",
    "print(\"without outliers shape is\",df_new.shape)"
   ]
  },
  {
   "cell_type": "markdown",
   "id": "effeb4f8",
   "metadata": {},
   "source": [
    "<h3 style=\"color:green\" > Lets  remove outliers (wrt LoanAmount ) ↓"
   ]
  },
  {
   "cell_type": "code",
   "execution_count": 26,
   "id": "734ac797",
   "metadata": {},
   "outputs": [
    {
     "name": "stdout",
     "output_type": "stream",
     "text": [
      "with outliers shape is : (614, 12)\n",
      "without outliers shape is (573, 12)\n"
     ]
    }
   ],
   "source": [
    "df_new = df[(df['LoanAmount']<LoanAmount_upper) & (df['LoanAmount']>LoanAmount_lower)]\n",
    "\n",
    "print(\"with outliers shape is :\",df.shape)\n",
    "print(\"without outliers shape is\",df_new.shape)"
   ]
  },
  {
   "cell_type": "markdown",
   "id": "c506c97a",
   "metadata": {},
   "source": [
    "<h3 style=\"color:green\" > Dataset after removing outliers : ↓"
   ]
  },
  {
   "cell_type": "code",
   "execution_count": 27,
   "id": "10e3df27",
   "metadata": {},
   "outputs": [],
   "source": [
    "final_df = df[(df['ApplicantIncome']<ApplicantIncome_upper) & (df['ApplicantIncome']>ApplicantIncome_lower)]\n",
    "final_df = final_df[(final_df['CoapplicantIncome']<CoapplicantIncome_upper) & (final_df['ApplicantIncome']>CoapplicantIncome_lower)]\n",
    "final_df = final_df[(final_df['LoanAmount']<LoanAmount_upper) & (final_df['LoanAmount']>LoanAmount_lower)]"
   ]
  },
  {
   "cell_type": "code",
   "execution_count": 28,
   "id": "a758cfeb",
   "metadata": {},
   "outputs": [
    {
     "data": {
      "text/plain": [
       "(535, 12)"
      ]
     },
     "execution_count": 28,
     "metadata": {},
     "output_type": "execute_result"
    }
   ],
   "source": [
    "final_df.shape"
   ]
  },
  {
   "cell_type": "code",
   "execution_count": 29,
   "id": "0ceabeee",
   "metadata": {},
   "outputs": [
    {
     "data": {
      "text/html": [
       "<div>\n",
       "<style scoped>\n",
       "    .dataframe tbody tr th:only-of-type {\n",
       "        vertical-align: middle;\n",
       "    }\n",
       "\n",
       "    .dataframe tbody tr th {\n",
       "        vertical-align: top;\n",
       "    }\n",
       "\n",
       "    .dataframe thead th {\n",
       "        text-align: right;\n",
       "    }\n",
       "</style>\n",
       "<table border=\"1\" class=\"dataframe\">\n",
       "  <thead>\n",
       "    <tr style=\"text-align: right;\">\n",
       "      <th></th>\n",
       "      <th>Gender</th>\n",
       "      <th>Married</th>\n",
       "      <th>Dependents</th>\n",
       "      <th>Education</th>\n",
       "      <th>Self_Employed</th>\n",
       "      <th>ApplicantIncome</th>\n",
       "      <th>CoapplicantIncome</th>\n",
       "      <th>LoanAmount</th>\n",
       "      <th>Loan_Amount_Term</th>\n",
       "      <th>Credit_History</th>\n",
       "      <th>Property_Area</th>\n",
       "      <th>Loan_Status</th>\n",
       "    </tr>\n",
       "  </thead>\n",
       "  <tbody>\n",
       "    <tr>\n",
       "      <th>Gender</th>\n",
       "      <td>1.000000</td>\n",
       "      <td>0.375571</td>\n",
       "      <td>0.187076</td>\n",
       "      <td>0.072320</td>\n",
       "      <td>0.021148</td>\n",
       "      <td>0.074849</td>\n",
       "      <td>0.198652</td>\n",
       "      <td>0.147324</td>\n",
       "      <td>-0.079050</td>\n",
       "      <td>0.005714</td>\n",
       "      <td>-0.006906</td>\n",
       "      <td>0.047217</td>\n",
       "    </tr>\n",
       "    <tr>\n",
       "      <th>Married</th>\n",
       "      <td>0.375571</td>\n",
       "      <td>1.000000</td>\n",
       "      <td>0.347329</td>\n",
       "      <td>0.032004</td>\n",
       "      <td>0.020443</td>\n",
       "      <td>-0.007531</td>\n",
       "      <td>0.266574</td>\n",
       "      <td>0.197150</td>\n",
       "      <td>-0.090463</td>\n",
       "      <td>0.003310</td>\n",
       "      <td>0.007718</td>\n",
       "      <td>0.077326</td>\n",
       "    </tr>\n",
       "    <tr>\n",
       "      <th>Dependents</th>\n",
       "      <td>0.187076</td>\n",
       "      <td>0.347329</td>\n",
       "      <td>1.000000</td>\n",
       "      <td>0.082991</td>\n",
       "      <td>0.054542</td>\n",
       "      <td>0.118185</td>\n",
       "      <td>-0.064006</td>\n",
       "      <td>0.113234</td>\n",
       "      <td>-0.092739</td>\n",
       "      <td>-0.032058</td>\n",
       "      <td>0.016343</td>\n",
       "      <td>0.008150</td>\n",
       "    </tr>\n",
       "    <tr>\n",
       "      <th>Education</th>\n",
       "      <td>0.072320</td>\n",
       "      <td>0.032004</td>\n",
       "      <td>0.082991</td>\n",
       "      <td>1.000000</td>\n",
       "      <td>0.000869</td>\n",
       "      <td>-0.147857</td>\n",
       "      <td>-0.028559</td>\n",
       "      <td>-0.122120</td>\n",
       "      <td>-0.073561</td>\n",
       "      <td>-0.085002</td>\n",
       "      <td>-0.063382</td>\n",
       "      <td>-0.114159</td>\n",
       "    </tr>\n",
       "    <tr>\n",
       "      <th>Self_Employed</th>\n",
       "      <td>0.021148</td>\n",
       "      <td>0.020443</td>\n",
       "      <td>0.054542</td>\n",
       "      <td>0.000869</td>\n",
       "      <td>1.000000</td>\n",
       "      <td>0.187889</td>\n",
       "      <td>-0.056586</td>\n",
       "      <td>0.086229</td>\n",
       "      <td>-0.064348</td>\n",
       "      <td>0.031554</td>\n",
       "      <td>-0.060971</td>\n",
       "      <td>-0.005302</td>\n",
       "    </tr>\n",
       "    <tr>\n",
       "      <th>ApplicantIncome</th>\n",
       "      <td>0.074849</td>\n",
       "      <td>-0.007531</td>\n",
       "      <td>0.118185</td>\n",
       "      <td>-0.147857</td>\n",
       "      <td>0.187889</td>\n",
       "      <td>1.000000</td>\n",
       "      <td>-0.266763</td>\n",
       "      <td>0.476023</td>\n",
       "      <td>-0.062157</td>\n",
       "      <td>0.051843</td>\n",
       "      <td>-0.076389</td>\n",
       "      <td>0.013046</td>\n",
       "    </tr>\n",
       "    <tr>\n",
       "      <th>CoapplicantIncome</th>\n",
       "      <td>0.198652</td>\n",
       "      <td>0.266574</td>\n",
       "      <td>-0.064006</td>\n",
       "      <td>-0.028559</td>\n",
       "      <td>-0.056586</td>\n",
       "      <td>-0.266763</td>\n",
       "      <td>1.000000</td>\n",
       "      <td>0.290349</td>\n",
       "      <td>-0.008596</td>\n",
       "      <td>0.008528</td>\n",
       "      <td>-0.092128</td>\n",
       "      <td>0.068056</td>\n",
       "    </tr>\n",
       "    <tr>\n",
       "      <th>LoanAmount</th>\n",
       "      <td>0.147324</td>\n",
       "      <td>0.197150</td>\n",
       "      <td>0.113234</td>\n",
       "      <td>-0.122120</td>\n",
       "      <td>0.086229</td>\n",
       "      <td>0.476023</td>\n",
       "      <td>0.290349</td>\n",
       "      <td>1.000000</td>\n",
       "      <td>0.089344</td>\n",
       "      <td>0.010476</td>\n",
       "      <td>-0.120310</td>\n",
       "      <td>-0.013972</td>\n",
       "    </tr>\n",
       "    <tr>\n",
       "      <th>Loan_Amount_Term</th>\n",
       "      <td>-0.079050</td>\n",
       "      <td>-0.090463</td>\n",
       "      <td>-0.092739</td>\n",
       "      <td>-0.073561</td>\n",
       "      <td>-0.064348</td>\n",
       "      <td>-0.062157</td>\n",
       "      <td>-0.008596</td>\n",
       "      <td>0.089344</td>\n",
       "      <td>1.000000</td>\n",
       "      <td>-0.017483</td>\n",
       "      <td>-0.081467</td>\n",
       "      <td>-0.025424</td>\n",
       "    </tr>\n",
       "    <tr>\n",
       "      <th>Credit_History</th>\n",
       "      <td>0.005714</td>\n",
       "      <td>0.003310</td>\n",
       "      <td>-0.032058</td>\n",
       "      <td>-0.085002</td>\n",
       "      <td>0.031554</td>\n",
       "      <td>0.051843</td>\n",
       "      <td>0.008528</td>\n",
       "      <td>0.010476</td>\n",
       "      <td>-0.017483</td>\n",
       "      <td>1.000000</td>\n",
       "      <td>0.009835</td>\n",
       "      <td>0.566580</td>\n",
       "    </tr>\n",
       "    <tr>\n",
       "      <th>Property_Area</th>\n",
       "      <td>-0.006906</td>\n",
       "      <td>0.007718</td>\n",
       "      <td>0.016343</td>\n",
       "      <td>-0.063382</td>\n",
       "      <td>-0.060971</td>\n",
       "      <td>-0.076389</td>\n",
       "      <td>-0.092128</td>\n",
       "      <td>-0.120310</td>\n",
       "      <td>-0.081467</td>\n",
       "      <td>0.009835</td>\n",
       "      <td>1.000000</td>\n",
       "      <td>0.026103</td>\n",
       "    </tr>\n",
       "    <tr>\n",
       "      <th>Loan_Status</th>\n",
       "      <td>0.047217</td>\n",
       "      <td>0.077326</td>\n",
       "      <td>0.008150</td>\n",
       "      <td>-0.114159</td>\n",
       "      <td>-0.005302</td>\n",
       "      <td>0.013046</td>\n",
       "      <td>0.068056</td>\n",
       "      <td>-0.013972</td>\n",
       "      <td>-0.025424</td>\n",
       "      <td>0.566580</td>\n",
       "      <td>0.026103</td>\n",
       "      <td>1.000000</td>\n",
       "    </tr>\n",
       "  </tbody>\n",
       "</table>\n",
       "</div>"
      ],
      "text/plain": [
       "                     Gender   Married  Dependents  Education  Self_Employed  \\\n",
       "Gender             1.000000  0.375571    0.187076   0.072320       0.021148   \n",
       "Married            0.375571  1.000000    0.347329   0.032004       0.020443   \n",
       "Dependents         0.187076  0.347329    1.000000   0.082991       0.054542   \n",
       "Education          0.072320  0.032004    0.082991   1.000000       0.000869   \n",
       "Self_Employed      0.021148  0.020443    0.054542   0.000869       1.000000   \n",
       "ApplicantIncome    0.074849 -0.007531    0.118185  -0.147857       0.187889   \n",
       "CoapplicantIncome  0.198652  0.266574   -0.064006  -0.028559      -0.056586   \n",
       "LoanAmount         0.147324  0.197150    0.113234  -0.122120       0.086229   \n",
       "Loan_Amount_Term  -0.079050 -0.090463   -0.092739  -0.073561      -0.064348   \n",
       "Credit_History     0.005714  0.003310   -0.032058  -0.085002       0.031554   \n",
       "Property_Area     -0.006906  0.007718    0.016343  -0.063382      -0.060971   \n",
       "Loan_Status        0.047217  0.077326    0.008150  -0.114159      -0.005302   \n",
       "\n",
       "                   ApplicantIncome  CoapplicantIncome  LoanAmount  \\\n",
       "Gender                    0.074849           0.198652    0.147324   \n",
       "Married                  -0.007531           0.266574    0.197150   \n",
       "Dependents                0.118185          -0.064006    0.113234   \n",
       "Education                -0.147857          -0.028559   -0.122120   \n",
       "Self_Employed             0.187889          -0.056586    0.086229   \n",
       "ApplicantIncome           1.000000          -0.266763    0.476023   \n",
       "CoapplicantIncome        -0.266763           1.000000    0.290349   \n",
       "LoanAmount                0.476023           0.290349    1.000000   \n",
       "Loan_Amount_Term         -0.062157          -0.008596    0.089344   \n",
       "Credit_History            0.051843           0.008528    0.010476   \n",
       "Property_Area            -0.076389          -0.092128   -0.120310   \n",
       "Loan_Status               0.013046           0.068056   -0.013972   \n",
       "\n",
       "                   Loan_Amount_Term  Credit_History  Property_Area  \\\n",
       "Gender                    -0.079050        0.005714      -0.006906   \n",
       "Married                   -0.090463        0.003310       0.007718   \n",
       "Dependents                -0.092739       -0.032058       0.016343   \n",
       "Education                 -0.073561       -0.085002      -0.063382   \n",
       "Self_Employed             -0.064348        0.031554      -0.060971   \n",
       "ApplicantIncome           -0.062157        0.051843      -0.076389   \n",
       "CoapplicantIncome         -0.008596        0.008528      -0.092128   \n",
       "LoanAmount                 0.089344        0.010476      -0.120310   \n",
       "Loan_Amount_Term           1.000000       -0.017483      -0.081467   \n",
       "Credit_History            -0.017483        1.000000       0.009835   \n",
       "Property_Area             -0.081467        0.009835       1.000000   \n",
       "Loan_Status               -0.025424        0.566580       0.026103   \n",
       "\n",
       "                   Loan_Status  \n",
       "Gender                0.047217  \n",
       "Married               0.077326  \n",
       "Dependents            0.008150  \n",
       "Education            -0.114159  \n",
       "Self_Employed        -0.005302  \n",
       "ApplicantIncome       0.013046  \n",
       "CoapplicantIncome     0.068056  \n",
       "LoanAmount           -0.013972  \n",
       "Loan_Amount_Term     -0.025424  \n",
       "Credit_History        0.566580  \n",
       "Property_Area         0.026103  \n",
       "Loan_Status           1.000000  "
      ]
     },
     "execution_count": 29,
     "metadata": {},
     "output_type": "execute_result"
    }
   ],
   "source": [
    "final_df.corr()"
   ]
  },
  {
   "cell_type": "code",
   "execution_count": 30,
   "id": "d7edce8e",
   "metadata": {},
   "outputs": [
    {
     "data": {
      "text/html": [
       "<div>\n",
       "<style scoped>\n",
       "    .dataframe tbody tr th:only-of-type {\n",
       "        vertical-align: middle;\n",
       "    }\n",
       "\n",
       "    .dataframe tbody tr th {\n",
       "        vertical-align: top;\n",
       "    }\n",
       "\n",
       "    .dataframe thead th {\n",
       "        text-align: right;\n",
       "    }\n",
       "</style>\n",
       "<table border=\"1\" class=\"dataframe\">\n",
       "  <thead>\n",
       "    <tr style=\"text-align: right;\">\n",
       "      <th></th>\n",
       "      <th>Gender</th>\n",
       "      <th>Married</th>\n",
       "      <th>Dependents</th>\n",
       "      <th>Education</th>\n",
       "      <th>Self_Employed</th>\n",
       "      <th>ApplicantIncome</th>\n",
       "      <th>CoapplicantIncome</th>\n",
       "      <th>LoanAmount</th>\n",
       "      <th>Loan_Amount_Term</th>\n",
       "      <th>Credit_History</th>\n",
       "      <th>Property_Area</th>\n",
       "      <th>Loan_Status</th>\n",
       "    </tr>\n",
       "  </thead>\n",
       "  <tbody>\n",
       "    <tr>\n",
       "      <th>Gender</th>\n",
       "      <td>1.000000</td>\n",
       "      <td>0.367389</td>\n",
       "      <td>0.172914</td>\n",
       "      <td>0.045364</td>\n",
       "      <td>-0.000525</td>\n",
       "      <td>0.058809</td>\n",
       "      <td>0.082912</td>\n",
       "      <td>0.106904</td>\n",
       "      <td>-0.074030</td>\n",
       "      <td>0.009170</td>\n",
       "      <td>-0.025752</td>\n",
       "      <td>0.017987</td>\n",
       "    </tr>\n",
       "    <tr>\n",
       "      <th>Married</th>\n",
       "      <td>0.367389</td>\n",
       "      <td>1.000000</td>\n",
       "      <td>0.340684</td>\n",
       "      <td>0.017671</td>\n",
       "      <td>0.008491</td>\n",
       "      <td>0.050194</td>\n",
       "      <td>0.080496</td>\n",
       "      <td>0.145717</td>\n",
       "      <td>-0.103381</td>\n",
       "      <td>0.006690</td>\n",
       "      <td>0.000395</td>\n",
       "      <td>0.084281</td>\n",
       "    </tr>\n",
       "    <tr>\n",
       "      <th>Dependents</th>\n",
       "      <td>0.172914</td>\n",
       "      <td>0.340684</td>\n",
       "      <td>1.000000</td>\n",
       "      <td>0.055752</td>\n",
       "      <td>0.056798</td>\n",
       "      <td>0.118202</td>\n",
       "      <td>0.030430</td>\n",
       "      <td>0.163103</td>\n",
       "      <td>-0.103864</td>\n",
       "      <td>-0.040160</td>\n",
       "      <td>-0.000244</td>\n",
       "      <td>0.010118</td>\n",
       "    </tr>\n",
       "    <tr>\n",
       "      <th>Education</th>\n",
       "      <td>0.045364</td>\n",
       "      <td>0.017671</td>\n",
       "      <td>0.055752</td>\n",
       "      <td>1.000000</td>\n",
       "      <td>-0.010383</td>\n",
       "      <td>-0.140760</td>\n",
       "      <td>-0.062290</td>\n",
       "      <td>-0.168759</td>\n",
       "      <td>-0.073928</td>\n",
       "      <td>-0.073658</td>\n",
       "      <td>-0.065243</td>\n",
       "      <td>-0.085884</td>\n",
       "    </tr>\n",
       "    <tr>\n",
       "      <th>Self_Employed</th>\n",
       "      <td>-0.000525</td>\n",
       "      <td>0.008491</td>\n",
       "      <td>0.056798</td>\n",
       "      <td>-0.010383</td>\n",
       "      <td>1.000000</td>\n",
       "      <td>0.127180</td>\n",
       "      <td>-0.016100</td>\n",
       "      <td>0.115100</td>\n",
       "      <td>-0.033739</td>\n",
       "      <td>-0.001550</td>\n",
       "      <td>-0.030860</td>\n",
       "      <td>-0.003700</td>\n",
       "    </tr>\n",
       "    <tr>\n",
       "      <th>ApplicantIncome</th>\n",
       "      <td>0.058809</td>\n",
       "      <td>0.050194</td>\n",
       "      <td>0.118202</td>\n",
       "      <td>-0.140760</td>\n",
       "      <td>0.127180</td>\n",
       "      <td>1.000000</td>\n",
       "      <td>-0.116605</td>\n",
       "      <td>0.565181</td>\n",
       "      <td>-0.046531</td>\n",
       "      <td>-0.018615</td>\n",
       "      <td>-0.009500</td>\n",
       "      <td>-0.004710</td>\n",
       "    </tr>\n",
       "    <tr>\n",
       "      <th>CoapplicantIncome</th>\n",
       "      <td>0.082912</td>\n",
       "      <td>0.080496</td>\n",
       "      <td>0.030430</td>\n",
       "      <td>-0.062290</td>\n",
       "      <td>-0.016100</td>\n",
       "      <td>-0.116605</td>\n",
       "      <td>1.000000</td>\n",
       "      <td>0.189218</td>\n",
       "      <td>-0.059383</td>\n",
       "      <td>0.011134</td>\n",
       "      <td>0.010522</td>\n",
       "      <td>-0.059187</td>\n",
       "    </tr>\n",
       "    <tr>\n",
       "      <th>LoanAmount</th>\n",
       "      <td>0.106904</td>\n",
       "      <td>0.145717</td>\n",
       "      <td>0.163103</td>\n",
       "      <td>-0.168759</td>\n",
       "      <td>0.115100</td>\n",
       "      <td>0.565181</td>\n",
       "      <td>0.189218</td>\n",
       "      <td>1.000000</td>\n",
       "      <td>0.036960</td>\n",
       "      <td>-0.000607</td>\n",
       "      <td>-0.046632</td>\n",
       "      <td>-0.033214</td>\n",
       "    </tr>\n",
       "    <tr>\n",
       "      <th>Loan_Amount_Term</th>\n",
       "      <td>-0.074030</td>\n",
       "      <td>-0.103381</td>\n",
       "      <td>-0.103864</td>\n",
       "      <td>-0.073928</td>\n",
       "      <td>-0.033739</td>\n",
       "      <td>-0.046531</td>\n",
       "      <td>-0.059383</td>\n",
       "      <td>0.036960</td>\n",
       "      <td>1.000000</td>\n",
       "      <td>-0.004705</td>\n",
       "      <td>-0.076120</td>\n",
       "      <td>-0.022549</td>\n",
       "    </tr>\n",
       "    <tr>\n",
       "      <th>Credit_History</th>\n",
       "      <td>0.009170</td>\n",
       "      <td>0.006690</td>\n",
       "      <td>-0.040160</td>\n",
       "      <td>-0.073658</td>\n",
       "      <td>-0.001550</td>\n",
       "      <td>-0.018615</td>\n",
       "      <td>0.011134</td>\n",
       "      <td>-0.000607</td>\n",
       "      <td>-0.004705</td>\n",
       "      <td>1.000000</td>\n",
       "      <td>0.001963</td>\n",
       "      <td>0.540556</td>\n",
       "    </tr>\n",
       "    <tr>\n",
       "      <th>Property_Area</th>\n",
       "      <td>-0.025752</td>\n",
       "      <td>0.000395</td>\n",
       "      <td>-0.000244</td>\n",
       "      <td>-0.065243</td>\n",
       "      <td>-0.030860</td>\n",
       "      <td>-0.009500</td>\n",
       "      <td>0.010522</td>\n",
       "      <td>-0.046632</td>\n",
       "      <td>-0.076120</td>\n",
       "      <td>0.001963</td>\n",
       "      <td>1.000000</td>\n",
       "      <td>0.032112</td>\n",
       "    </tr>\n",
       "    <tr>\n",
       "      <th>Loan_Status</th>\n",
       "      <td>0.017987</td>\n",
       "      <td>0.084281</td>\n",
       "      <td>0.010118</td>\n",
       "      <td>-0.085884</td>\n",
       "      <td>-0.003700</td>\n",
       "      <td>-0.004710</td>\n",
       "      <td>-0.059187</td>\n",
       "      <td>-0.033214</td>\n",
       "      <td>-0.022549</td>\n",
       "      <td>0.540556</td>\n",
       "      <td>0.032112</td>\n",
       "      <td>1.000000</td>\n",
       "    </tr>\n",
       "  </tbody>\n",
       "</table>\n",
       "</div>"
      ],
      "text/plain": [
       "                     Gender   Married  Dependents  Education  Self_Employed  \\\n",
       "Gender             1.000000  0.367389    0.172914   0.045364      -0.000525   \n",
       "Married            0.367389  1.000000    0.340684   0.017671       0.008491   \n",
       "Dependents         0.172914  0.340684    1.000000   0.055752       0.056798   \n",
       "Education          0.045364  0.017671    0.055752   1.000000      -0.010383   \n",
       "Self_Employed     -0.000525  0.008491    0.056798  -0.010383       1.000000   \n",
       "ApplicantIncome    0.058809  0.050194    0.118202  -0.140760       0.127180   \n",
       "CoapplicantIncome  0.082912  0.080496    0.030430  -0.062290      -0.016100   \n",
       "LoanAmount         0.106904  0.145717    0.163103  -0.168759       0.115100   \n",
       "Loan_Amount_Term  -0.074030 -0.103381   -0.103864  -0.073928      -0.033739   \n",
       "Credit_History     0.009170  0.006690   -0.040160  -0.073658      -0.001550   \n",
       "Property_Area     -0.025752  0.000395   -0.000244  -0.065243      -0.030860   \n",
       "Loan_Status        0.017987  0.084281    0.010118  -0.085884      -0.003700   \n",
       "\n",
       "                   ApplicantIncome  CoapplicantIncome  LoanAmount  \\\n",
       "Gender                    0.058809           0.082912    0.106904   \n",
       "Married                   0.050194           0.080496    0.145717   \n",
       "Dependents                0.118202           0.030430    0.163103   \n",
       "Education                -0.140760          -0.062290   -0.168759   \n",
       "Self_Employed             0.127180          -0.016100    0.115100   \n",
       "ApplicantIncome           1.000000          -0.116605    0.565181   \n",
       "CoapplicantIncome        -0.116605           1.000000    0.189218   \n",
       "LoanAmount                0.565181           0.189218    1.000000   \n",
       "Loan_Amount_Term         -0.046531          -0.059383    0.036960   \n",
       "Credit_History           -0.018615           0.011134   -0.000607   \n",
       "Property_Area            -0.009500           0.010522   -0.046632   \n",
       "Loan_Status              -0.004710          -0.059187   -0.033214   \n",
       "\n",
       "                   Loan_Amount_Term  Credit_History  Property_Area  \\\n",
       "Gender                    -0.074030        0.009170      -0.025752   \n",
       "Married                   -0.103381        0.006690       0.000395   \n",
       "Dependents                -0.103864       -0.040160      -0.000244   \n",
       "Education                 -0.073928       -0.073658      -0.065243   \n",
       "Self_Employed             -0.033739       -0.001550      -0.030860   \n",
       "ApplicantIncome           -0.046531       -0.018615      -0.009500   \n",
       "CoapplicantIncome         -0.059383        0.011134       0.010522   \n",
       "LoanAmount                 0.036960       -0.000607      -0.046632   \n",
       "Loan_Amount_Term           1.000000       -0.004705      -0.076120   \n",
       "Credit_History            -0.004705        1.000000       0.001963   \n",
       "Property_Area             -0.076120        0.001963       1.000000   \n",
       "Loan_Status               -0.022549        0.540556       0.032112   \n",
       "\n",
       "                   Loan_Status  \n",
       "Gender                0.017987  \n",
       "Married               0.084281  \n",
       "Dependents            0.010118  \n",
       "Education            -0.085884  \n",
       "Self_Employed        -0.003700  \n",
       "ApplicantIncome      -0.004710  \n",
       "CoapplicantIncome    -0.059187  \n",
       "LoanAmount           -0.033214  \n",
       "Loan_Amount_Term     -0.022549  \n",
       "Credit_History        0.540556  \n",
       "Property_Area         0.032112  \n",
       "Loan_Status           1.000000  "
      ]
     },
     "execution_count": 30,
     "metadata": {},
     "output_type": "execute_result"
    }
   ],
   "source": [
    "df.corr()"
   ]
  },
  {
   "cell_type": "code",
   "execution_count": 31,
   "id": "b23fb3ae",
   "metadata": {},
   "outputs": [],
   "source": [
    "final_df.to_csv('train.csv',index=False)"
   ]
  },
  {
   "cell_type": "code",
   "execution_count": 32,
   "id": "9f02f26e",
   "metadata": {},
   "outputs": [
    {
     "data": {
      "text/plain": [
       "(535, 12)"
      ]
     },
     "execution_count": 32,
     "metadata": {},
     "output_type": "execute_result"
    }
   ],
   "source": [
    "dff = pd.read_csv('train.csv')\n",
    "dff.shape"
   ]
  },
  {
   "cell_type": "code",
   "execution_count": null,
   "id": "9dd9faa3",
   "metadata": {},
   "outputs": [],
   "source": []
  }
 ],
 "metadata": {
  "kernelspec": {
   "display_name": "Python 3",
   "language": "python",
   "name": "python3"
  },
  "language_info": {
   "codemirror_mode": {
    "name": "ipython",
    "version": 3
   },
   "file_extension": ".py",
   "mimetype": "text/x-python",
   "name": "python",
   "nbconvert_exporter": "python",
   "pygments_lexer": "ipython3",
   "version": "3.9.5"
  }
 },
 "nbformat": 4,
 "nbformat_minor": 5
}
